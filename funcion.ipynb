{
  "nbformat": 4,
  "nbformat_minor": 0,
  "metadata": {
    "colab": {
      "name": "funcion.ipynb",
      "provenance": [],
      "collapsed_sections": []
    },
    "kernelspec": {
      "name": "python3",
      "display_name": "Python 3"
    },
    "language_info": {
      "name": "python"
    }
  },
  "cells": [
    {
      "cell_type": "code",
      "execution_count": 16,
      "metadata": {
        "colab": {
          "base_uri": "https://localhost:8080/"
        },
        "id": "nLpM3hZMslNX",
        "outputId": "682a7280-e842-47f1-b86c-cbc85e17543c"
      },
      "outputs": [
        {
          "name": "stdout",
          "output_type": "stream",
          "text": [
            "1.- Calcular el iva de un producto\n",
            "2.- Calcular el descuento de un producto\n",
            "3.- Calcular IMC\n",
            "4.- SALIR\n",
            "Ingresa la opcion: 1\n",
            "Ingresa el precio para saber el IVA: 20000\n",
            "El IVA del producto es: 3800.0\n",
            "1.- Calcular el iva de un producto\n",
            "2.- Calcular el descuento de un producto\n",
            "3.- Calcular IMC\n",
            "4.- SALIR\n",
            "Ingresa la opcion: 2\n",
            "Ingresa el valor del producto: 20000\n",
            "Ingresa el numero de porcentaje a descontar: 10\n",
            "El valor final del producto con el descuento aplicado es:  2000.0\n",
            "1.- Calcular el iva de un producto\n",
            "2.- Calcular el descuento de un producto\n",
            "3.- Calcular IMC\n",
            "4.- SALIR\n",
            "Ingresa la opcion: 3\n",
            "Ingresa tu peso en kilogramos:77\n",
            "Ingresa tu altura en metros: 1.77\n",
            "Tu imc es: 24.577867151840145\n",
            "Tu imc indica que estas en un peso normal.\n",
            "1.- Calcular el iva de un producto\n",
            "2.- Calcular el descuento de un producto\n",
            "3.- Calcular IMC\n",
            "4.- SALIR\n",
            "Ingresa la opcion: 4\n"
          ]
        }
      ],
      "source": [
        "def calcular_iva(precio):\n",
        "    precio=int(input(\"Ingresa el precio para saber el IVA: \"))\n",
        "    iva=precio*0.19\n",
        "    return iva\n",
        "def descuento(valorProd,valorDsc):\n",
        "    valorProd=int(input(\"Ingresa el valor del producto: \"))\n",
        "    valorDsc=int(input(\"Ingresa el numero de porcentaje a descontar: \"))\n",
        "    porcentaje=valorDsc/100\n",
        "    dsc=valorProd*porcentaje\n",
        "    return dsc\n",
        "def calcular_imc(peso,altura):\n",
        "    imc=peso/(altura*altura)\n",
        "    print(\"Tu imc es:\",imc)\n",
        "    if imc<18.5:\n",
        "        print(\"Tu imc indica que estas bajo de peso.\")\n",
        "    elif imc>=18.5 and imc<25:\n",
        "        print(\"Tu imc indica que estas en un peso normal.\")\n",
        "    elif imc>=25 and imc<30:\n",
        "        print(\"Tu imc indica que tienes sobrepeso.\")\n",
        "    elif imc>=30:\n",
        "        print(\"Tu imc indica que tienes obesidad :c\")         \n",
        "terminar=\"a\"\n",
        "precio=0\n",
        "valorProdu=0\n",
        "dsct=0\n",
        "while terminar!=\"\":\n",
        "    print(\"1.- Calcular el iva de un producto\")\n",
        "    print(\"2.- Calcular el descuento de un producto\")\n",
        "    print(\"3.- Calcular IMC\")\n",
        "    print(\"4.- SALIR\")\n",
        "    opcion=int(input(\"Ingresa la opcion: \"))\n",
        "    if opcion==1:     \n",
        "        print(\"El IVA del producto es:\",calcular_iva(precio))\n",
        "    elif opcion==2:\n",
        "        print(\"El valor final del producto con el descuento aplicado es: \",descuento(valorProdu,dsct))\n",
        "    elif opcion==3:\n",
        "        peso=int(input(\"Ingresa tu peso en kilogramos:\"))\n",
        "        altura=float(input(\"Ingresa tu altura en metros: \"))\n",
        "        (calcular_imc(peso,altura))\n",
        "    elif opcion==4:\n",
        "        break          \n",
        "\n"
      ]
    }
  ]
}